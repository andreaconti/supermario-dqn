{
 "cells": [
  {
   "cell_type": "markdown",
   "metadata": {},
   "source": [
    "## SuperMario Frames Preprocessing"
   ]
  },
  {
   "cell_type": "code",
   "execution_count": 4,
   "metadata": {},
   "outputs": [
    {
     "data": {
      "image/png": "[encoded data removed]",
      "text/plain": [
       "<Figure size 432x288 with 1 Axes>"
      ]
     },
     "metadata": {
      "needs_background": "light"
     },
     "output_type": "display_data"
    },
    {
     "name": "stdout",
     "output_type": "stream",
     "text": [
      "image of size 240x256\n"
     ]
    }
   ],
   "source": [
    "import gym_super_mario_bros as gym\n",
    "import matplotlib.pyplot as plt\n",
    "\n",
    "env = gym.make('SuperMarioBros-v0')\n",
    "state = env.reset()\n",
    "plt.imshow(state)\n",
    "plt.show()\n",
    "print(f'image of size {state.shape[0]}x{state.shape[1]}')"
   ]
  },
  {
   "cell_type": "markdown",
   "metadata": {},
   "source": [
    "The idea is to highlight Mario, cut the top part of the frame and make background darker"
   ]
  },
  {
   "cell_type": "code",
   "execution_count": 5,
   "metadata": {
    "scrolled": true
   },
   "outputs": [
    {
     "name": "stdout",
     "output_type": "stream",
     "text": [
      "<class 'numpy.ndarray'>\n"
     ]
    },
    {
     "data": {
      "image/png": "[encoded data removed]",
      "text/plain": [
       "<Figure size 432x288 with 1 Axes>"
      ]
     },
     "metadata": {
      "needs_background": "light"
     },
     "output_type": "display_data"
    }
   ],
   "source": [
    "import torchvision\n",
    "from supermario_dqn.preprocess import *\n",
    "from torchvision import transforms\n",
    "import numpy as np\n",
    "\n",
    "state_ = preprocess(state)\n",
    "print(type(state))\n",
    "plt.imshow(state_, cmap='gray')\n",
    "plt.xlabel(f'size: {state_.shape[0]}x{state_.shape[1]}')\n",
    "plt.show()"
   ]
  },
  {
   "cell_type": "markdown",
   "metadata": {},
   "source": [
    "Neural Network will be feed with a 3x60x110 frame containing 3 frames"
   ]
  },
  {
   "cell_type": "code",
   "execution_count": 33,
   "metadata": {},
   "outputs": [
    {
     "data": {
      "image/png": "[encoded data removed]",
      "text/plain": [
       "<Figure size 432x288 with 3 Axes>"
      ]
     },
     "metadata": {
      "needs_background": "light"
     },
     "output_type": "display_data"
    }
   ],
   "source": [
    "from collections import deque\n",
    "from gym_super_mario_bros.actions import SIMPLE_MOVEMENT\n",
    "from nes_py.wrappers import JoypadSpace \n",
    "\n",
    "env = gym.make('SuperMarioBros-v0')\n",
    "env = JoypadSpace(env, SIMPLE_MOVEMENT)\n",
    "\n",
    "env.reset()\n",
    "action = 2\n",
    "\n",
    "# init\n",
    "for i in range(4):\n",
    "    env.step(action)[0]\n",
    "    \n",
    "for i in range(3):\n",
    "    state = None\n",
    "    for j in range(2):\n",
    "        state = env.step(action)[0]\n",
    "        \n",
    "    plt.subplot(1, 3, i+1)\n",
    "    plt.imshow(preprocess(frames[i]), cmap='gray')\n",
    "    \n",
    "plt.show()"
   ]
  }
 ],
 "metadata": {
  "kernelspec": {
   "display_name": "Python 3",
   "language": "python",
   "name": "python3"
  },
  "language_info": {
   "codemirror_mode": {
    "name": "ipython",
    "version": 3
   },
   "file_extension": ".py",
   "mimetype": "text/x-python",
   "name": "python",
   "nbconvert_exporter": "python",
   "pygments_lexer": "ipython3",
   "version": "3.6.8"
  }
 },
 "nbformat": 4,
 "nbformat_minor": 2
}
