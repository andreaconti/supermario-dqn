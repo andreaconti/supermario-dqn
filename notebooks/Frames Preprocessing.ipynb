{
 "cells": [
  {
   "cell_type": "markdown",
   "metadata": {},
   "source": [
    "## SuperMario Frames Preprocessing"
   ]
  },
  {
   "cell_type": "code",
   "execution_count": 1,
   "metadata": {},
   "outputs": [
    {
     "data": {
      "text/plain": [
       "<Figure size 640x480 with 1 Axes>"
      ]
     },
     "metadata": {},
     "output_type": "display_data"
    },
    {
     "name": "stdout",
     "output_type": "stream",
     "text": [
      "image of size 240x256\n"
     ]
    }
   ],
   "source": [
    "import gym_super_mario_bros as gym\n",
    "import matplotlib.pyplot as plt\n",
    "\n",
    "env = gym.make('SuperMarioBros-v0')\n",
    "state = env.reset()\n",
    "plt.imshow(state)\n",
    "plt.show()\n",
    "print(f'image of size {state.shape[0]}x{state.shape[1]}')"
   ]
  },
  {
   "cell_type": "markdown",
   "metadata": {},
   "source": [
    "The idea is to highlight Mario, cut the top part of the frame and make background darker"
   ]
  },
  {
   "cell_type": "code",
   "execution_count": 9,
   "metadata": {},
   "outputs": [
    {
     "data": {
      "image/png": "[encoded data removed]",
      "text/plain": [
       "<Figure size 432x288 with 1 Axes>"
      ]
     },
     "metadata": {
      "needs_background": "light"
     },
     "output_type": "display_data"
    }
   ],
   "source": [
    "import torchvision\n",
    "from torchvision import transforms\n",
    "import numpy as np\n",
    "\n",
    "def preprocess(img):\n",
    "    \"\"\"\n",
    "    Preprocess a frame\n",
    "    \"\"\"\n",
    "    mario_dress = 240 #, 56, 0]\n",
    "    mario_skin  = 252 #, 16, 68]\n",
    "    mario_other = 172 #, 140, 0]\n",
    "    background  = 104\n",
    "    bush_color2 = 168\n",
    "    bush_color1 = 184\n",
    "\n",
    "    state_ = state[70:208, :, 0]  # crop and red signal\n",
    "    state_[state_==mario_dress] = 255\n",
    "    state_[state_==mario_skin]  = 255\n",
    "    state_[state_==mario_other] = 255\n",
    "    state_[state_==background]  = 0\n",
    "\n",
    "    state_ = np.array(transforms.Compose([\n",
    "        transforms.ToPILImage(),\n",
    "        transforms.Resize([60, 110]), \n",
    "    ])(state_))\n",
    "    \n",
    "    return state_\n",
    "\n",
    "state_ = preprocess(state)\n",
    "plt.imshow(state_, cmap='gray')\n",
    "plt.xlabel(f'size: {state_.shape[0]}x{state_.shape[1]}')\n",
    "plt.show()"
   ]
  },
  {
   "cell_type": "markdown",
   "metadata": {},
   "source": [
    "And now a execution seen by neural network"
   ]
  },
  {
   "cell_type": "code",
   "execution_count": 5,
   "metadata": {},
   "outputs": [
    {
     "name": "stdout",
     "output_type": "stream",
     "text": [
      "stopped\n"
     ]
    }
   ],
   "source": [
    "import time\n",
    "from IPython.display import clear_output\n",
    "\n",
    "env = gym.make('SuperMarioBros-v0')\n",
    "\n",
    "state = env.reset()\n",
    "done = False\n",
    "try:\n",
    "    while not done:\n",
    "        state, _, done, _ = env.step(env.action_space.sample())\n",
    "        clear_output(wait=True)\n",
    "        plt.imshow(preprocess(state), cmap='gray')\n",
    "        plt.show()\n",
    "except KeyboardInterrupt:\n",
    "    print('stopped')"
   ]
  },
  {
   "cell_type": "code",
   "execution_count": null,
   "metadata": {},
   "outputs": [],
   "source": []
  }
 ],
 "metadata": {
  "kernelspec": {
   "display_name": "Python 3",
   "language": "python",
   "name": "python3"
  },
  "language_info": {
   "codemirror_mode": {
    "name": "ipython",
    "version": 3
   },
   "file_extension": ".py",
   "mimetype": "text/x-python",
   "name": "python",
   "nbconvert_exporter": "python",
   "pygments_lexer": "ipython3",
   "version": "3.6.8"
  }
 },
 "nbformat": 4,
 "nbformat_minor": 2
}
