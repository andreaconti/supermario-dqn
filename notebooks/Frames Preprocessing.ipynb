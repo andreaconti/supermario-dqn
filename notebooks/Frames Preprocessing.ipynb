{
 "cells": [
  {
   "cell_type": "markdown",
   "metadata": {},
   "source": [
    "## SuperMario Frames Preprocessing"
   ]
  },
  {
   "cell_type": "code",
   "execution_count": 1,
   "metadata": {},
   "outputs": [
    {
     "data": {
      "text/plain": [
       "<Figure size 640x480 with 1 Axes>"
      ]
     },
     "metadata": {},
     "output_type": "display_data"
    },
    {
     "name": "stdout",
     "output_type": "stream",
     "text": [
      "image of size 240x256\n"
     ]
    }
   ],
   "source": [
    "import gym_super_mario_bros as gym\n",
    "import matplotlib.pyplot as plt\n",
    "\n",
    "env = gym.make('SuperMarioBros-v0')\n",
    "state = env.reset()\n",
    "plt.imshow(state)\n",
    "plt.show()\n",
    "print(f'image of size {state.shape[0]}x{state.shape[1]}')"
   ]
  },
  {
   "cell_type": "markdown",
   "metadata": {},
   "source": [
    "The idea is to highlight Mario, cut the top part of the frame and make background darker"
   ]
  },
  {
   "cell_type": "code",
   "execution_count": 2,
   "metadata": {
    "scrolled": true
   },
   "outputs": [
    {
     "name": "stdout",
     "output_type": "stream",
     "text": [
      "<class 'numpy.ndarray'>\n"
     ]
    },
    {
     "data": {
      "image/png": "[encoded data removed]",
      "text/plain": [
       "<Figure size 432x288 with 1 Axes>"
      ]
     },
     "metadata": {
      "needs_background": "light"
     },
     "output_type": "display_data"
    }
   ],
   "source": [
    "import torchvision\n",
    "from supermario_dqn.preprocess import *\n",
    "from torchvision import transforms\n",
    "import numpy as np\n",
    "\n",
    "state_ = preprocess(state, 30, 55)\n",
    "print(type(state))\n",
    "plt.imshow(state_, cmap='gray')\n",
    "plt.xlabel(f'size: {state_.shape[0]}x{state_.shape[1]}')\n",
    "plt.show()"
   ]
  },
  {
   "cell_type": "markdown",
   "metadata": {},
   "source": [
    "Neural Network will be feed with a 4x30x55 frame containing 4 frames"
   ]
  },
  {
   "cell_type": "code",
   "execution_count": 3,
   "metadata": {},
   "outputs": [
    {
     "data": {
      "image/png": "[encoded data removed]",
      "text/plain": [
       "<Figure size 432x288 with 4 Axes>"
      ]
     },
     "metadata": {
      "needs_background": "light"
     },
     "output_type": "display_data"
    }
   ],
   "source": [
    "from collections import deque\n",
    "from gym_super_mario_bros.actions import SIMPLE_MOVEMENT\n",
    "from nes_py.wrappers import JoypadSpace \n",
    "\n",
    "env = gym.make('SuperMarioBros-v0')\n",
    "env = JoypadSpace(env, SIMPLE_MOVEMENT)\n",
    "\n",
    "env.reset()\n",
    "action = 2\n",
    "\n",
    "# init\n",
    "for i in range(4):\n",
    "    env.step(action)[0]\n",
    "    \n",
    "for i in range(4):\n",
    "    state = None\n",
    "    for j in range(2):\n",
    "        state = env.step(action)[0]\n",
    "        \n",
    "    plt.subplot(1, 4, i+1)\n",
    "    plt.imshow(preprocess(state, 30, 55), cmap='gray')\n",
    "    \n",
    "plt.show()"
   ]
  },
  {
   "cell_type": "code",
   "execution_count": 4,
   "metadata": {},
   "outputs": [
    {
     "data": {
      "image/png": "[encoded data removed]",
      "text/plain": [
       "<Figure size 432x288 with 1 Axes>"
      ]
     },
     "metadata": {
      "needs_background": "light"
     },
     "output_type": "display_data"
    },
    {
     "name": "stdout",
     "output_type": "stream",
     "text": [
      "random reward: 3423\n",
      "710 steps\n"
     ]
    }
   ],
   "source": [
    "from nes_py.wrappers import JoypadSpace \n",
    "from IPython.display import clear_output\n",
    "import random\n",
    "from collections import deque\n",
    "from supermario_dqn.environment import MarioEnvironment\n",
    "\n",
    "env = MarioEnvironment(4, lambda s: preprocess(s, 30, 55))\n",
    "env.reset()\n",
    "\n",
    "done = False\n",
    "reward = 0\n",
    "step = 0\n",
    "\n",
    "while not done:\n",
    "    action = random.randint(0, len(env.actions) - 1)\n",
    "    action = 2\n",
    "    obs, r, done, info = env.step(action)\n",
    "    reward += r\n",
    "    step += 1\n",
    "    \n",
    "    if step % 1 == 0:\n",
    "        clear_output(wait=True)\n",
    "        plt.imshow(obs[0], cmap='gray')\n",
    "        plt.xlabel(f'reward {r}, choosen action: {env.actions[action]}')\n",
    "        plt.show()\n",
    "    \n",
    "print(f'random reward: {reward}')\n",
    "print(f'{step} steps')"
   ]
  },
  {
   "cell_type": "code",
   "execution_count": null,
   "metadata": {},
   "outputs": [],
   "source": []
  }
 ],
 "metadata": {
  "kernelspec": {
   "display_name": "Python 3",
   "language": "python",
   "name": "python3"
  },
  "language_info": {
   "codemirror_mode": {
    "name": "ipython",
    "version": 3
   },
   "file_extension": ".py",
   "mimetype": "text/x-python",
   "name": "python",
   "nbconvert_exporter": "python",
   "pygments_lexer": "ipython3",
   "version": "3.6.8"
  }
 },
 "nbformat": 4,
 "nbformat_minor": 2
}
