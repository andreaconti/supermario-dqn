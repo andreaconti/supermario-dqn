{
 "cells": [
  {
   "cell_type": "markdown",
   "metadata": {},
   "source": [
    "## Graphs on each trainined model"
   ]
  },
  {
   "cell_type": "code",
   "execution_count": null,
   "metadata": {},
   "outputs": [],
   "source": [
    "import os\n",
    "import numpy as np\n",
    "import random\n",
    "import matplotlib.pyplot as plt\n",
    "from supermario_dqn.environment import MarioEnvironment\n",
    "import supermario_dqn.preprocess as pr\n",
    "\n",
    "# compute some random rewards\n",
    "env = MarioEnvironment(1, lambda w, s, t: pr.preprocess(w, s, t, 30, 30))\n",
    "env.reset()\n",
    "random_mean_reward = 0\n",
    "for i in range(3):\n",
    "    done = False\n",
    "    env.reset()\n",
    "    while not done:\n",
    "        action = random.randint(0, env.n_actions - 1)\n",
    "        _, r, done, _ = env.step(action)\n",
    "        random_mean_reward += r\n",
    "random_mean_reward = random_mean_reward / 3\n",
    "\n",
    "\n",
    "train_dirs = [d[0] for d in os.walk('.') if 'train' in d[0]]\n",
    "train_dirs.sort()\n",
    "\n",
    "for train_dir in train_dirs:\n",
    "    \n",
    "    # load \n",
    "    loaded  = np.loadtxt(open(os.path.join(train_dir, 'episodes.csv')), delimiter=',', skiprows=1)\n",
    "    rewards = loaded[:, 1]\n",
    "    steps   = loaded[:, 2]\n",
    "    \n",
    "    len_rew = len(rewards) // 50\n",
    "    rewards = rewards[:len_rew*50].reshape(-1, 50).mean(axis=1).reshape(-1)\n",
    "    \n",
    "    plt.title(f'training: {train_dir}')\n",
    "    plt.plot(range(len_rew), rewards, 'r-')\n",
    "    plt.plot(range(len_rew), [random_mean_reward] * len_rew)\n",
    "    plt.xlabel('red: rewards, blue: random mean reward')\n",
    "    plt.show()"
   ]
  },
  {
   "cell_type": "code",
   "execution_count": null,
   "metadata": {},
   "outputs": [],
   "source": []
  }
 ],
 "metadata": {
  "kernelspec": {
   "display_name": "Python 3",
   "language": "python",
   "name": "python3"
  },
  "language_info": {
   "codemirror_mode": {
    "name": "ipython",
    "version": 3
   },
   "file_extension": ".py",
   "mimetype": "text/x-python",
   "name": "python",
   "nbconvert_exporter": "python",
   "pygments_lexer": "ipython3",
   "version": "3.6.8"
  }
 },
 "nbformat": 4,
 "nbformat_minor": 2
}
